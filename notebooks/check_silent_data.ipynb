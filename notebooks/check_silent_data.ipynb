{
 "cells": [
  {
   "cell_type": "markdown",
   "metadata": {},
   "source": [
    "https://www.kaggle.com/c/freesound-audio-tagging-2019/discussion/89108#latest-529449"
   ]
  },
  {
   "cell_type": "code",
   "execution_count": 1,
   "metadata": {},
   "outputs": [],
   "source": [
    "import os\n",
    "import wave\n",
    "import shutil\n",
    "import librosa\n",
    "import pathlib\n",
    "import numpy as np\n",
    "import pandas as pd\n",
    "import matplotlib\n",
    "import matplotlib.pyplot as plt\n",
    "import IPython.display as ipd  # To play sound in the notebook\n",
    "import seaborn as sns\n",
    "import pickle\n",
    "from scipy.io import wavfile\n",
    "\n",
    "%matplotlib inline\n",
    "matplotlib.style.use('ggplot')"
   ]
  },
  {
   "cell_type": "markdown",
   "metadata": {},
   "source": [
    "### Loading data"
   ]
  },
  {
   "cell_type": "code",
   "execution_count": 2,
   "metadata": {},
   "outputs": [],
   "source": [
    "data_dir = '../data/input/'\n",
    "train_curated = pd.read_csv(data_dir + 'train_curated.csv')\n",
    "train_noisy = pd.read_csv(data_dir + 'train_noisy.csv')\n",
    "test = pd.read_csv(data_dir + 'sample_submission.csv')"
   ]
  },
  {
   "cell_type": "code",
   "execution_count": 3,
   "metadata": {},
   "outputs": [],
   "source": [
    "train_curated[\"nframe\"] = train_curated[\"fname\"].apply(\n",
    "    lambda f: wave.open(data_dir + \"train_curated/\" + f).getnframes()\n",
    ")\n",
    "train_noisy[\"nframe\"] = train_noisy[\"fname\"].apply(\n",
    "    lambda f: wave.open(data_dir + \"train_noisy/\" + f).getnframes()\n",
    ")\n",
    "test[\"nframe\"] = test[\"fname\"].apply(\n",
    "    lambda f: wave.open(data_dir + \"test/\" + f).getnframes()\n",
    ")"
   ]
  },
  {
   "cell_type": "code",
   "execution_count": 10,
   "metadata": {},
   "outputs": [],
   "source": [
    "train_curated[\"wav_data_std\"] = train_curated[\"fname\"].apply(\n",
    "    lambda f: wavfile.read(data_dir + \"train_curated/\" + f)[1].std()\n",
    ")\n",
    "train_noisy[\"wav_data_std\"] = train_noisy[\"fname\"].apply(\n",
    "    lambda f: wavfile.read(data_dir + \"train_noisy/\" + f)[1].std()\n",
    ")\n",
    "test[\"wav_data_std\"] = test[\"fname\"].apply(\n",
    "    lambda f: wavfile.read(data_dir + \"test/\" + f)[1].std()\n",
    ")"
   ]
  },
  {
   "cell_type": "code",
   "execution_count": 14,
   "metadata": {},
   "outputs": [
    {
     "data": {
      "text/html": [
       "<div>\n",
       "<style scoped>\n",
       "    .dataframe tbody tr th:only-of-type {\n",
       "        vertical-align: middle;\n",
       "    }\n",
       "\n",
       "    .dataframe tbody tr th {\n",
       "        vertical-align: top;\n",
       "    }\n",
       "\n",
       "    .dataframe thead th {\n",
       "        text-align: right;\n",
       "    }\n",
       "</style>\n",
       "<table border=\"1\" class=\"dataframe\">\n",
       "  <thead>\n",
       "    <tr style=\"text-align: right;\">\n",
       "      <th></th>\n",
       "      <th>fname</th>\n",
       "      <th>labels</th>\n",
       "      <th>nframe</th>\n",
       "      <th>wav_data_std</th>\n",
       "      <th>noisy_flg</th>\n",
       "      <th>n_labels</th>\n",
       "      <th>test_flg</th>\n",
       "    </tr>\n",
       "  </thead>\n",
       "  <tbody>\n",
       "    <tr>\n",
       "      <th>0</th>\n",
       "      <td>0006ae4e.wav</td>\n",
       "      <td>Bark</td>\n",
       "      <td>310456</td>\n",
       "      <td>407.965955</td>\n",
       "      <td>0.0</td>\n",
       "      <td>1.0</td>\n",
       "      <td>0</td>\n",
       "    </tr>\n",
       "    <tr>\n",
       "      <th>1</th>\n",
       "      <td>0019ef41.wav</td>\n",
       "      <td>Raindrop</td>\n",
       "      <td>90616</td>\n",
       "      <td>75.109294</td>\n",
       "      <td>0.0</td>\n",
       "      <td>1.0</td>\n",
       "      <td>0</td>\n",
       "    </tr>\n",
       "    <tr>\n",
       "      <th>2</th>\n",
       "      <td>001ec0ad.wav</td>\n",
       "      <td>Finger_snapping</td>\n",
       "      <td>66976</td>\n",
       "      <td>334.738651</td>\n",
       "      <td>0.0</td>\n",
       "      <td>1.0</td>\n",
       "      <td>0</td>\n",
       "    </tr>\n",
       "    <tr>\n",
       "      <th>3</th>\n",
       "      <td>0026c7cb.wav</td>\n",
       "      <td>Run</td>\n",
       "      <td>1125886</td>\n",
       "      <td>581.425611</td>\n",
       "      <td>0.0</td>\n",
       "      <td>1.0</td>\n",
       "      <td>0</td>\n",
       "    </tr>\n",
       "    <tr>\n",
       "      <th>4</th>\n",
       "      <td>0026f116.wav</td>\n",
       "      <td>Finger_snapping</td>\n",
       "      <td>60638</td>\n",
       "      <td>649.458686</td>\n",
       "      <td>0.0</td>\n",
       "      <td>1.0</td>\n",
       "      <td>0</td>\n",
       "    </tr>\n",
       "  </tbody>\n",
       "</table>\n",
       "</div>"
      ],
      "text/plain": [
       "          fname           labels   nframe  wav_data_std  noisy_flg  n_labels  \\\n",
       "0  0006ae4e.wav             Bark   310456    407.965955        0.0       1.0   \n",
       "1  0019ef41.wav         Raindrop    90616     75.109294        0.0       1.0   \n",
       "2  001ec0ad.wav  Finger_snapping    66976    334.738651        0.0       1.0   \n",
       "3  0026c7cb.wav              Run  1125886    581.425611        0.0       1.0   \n",
       "4  0026f116.wav  Finger_snapping    60638    649.458686        0.0       1.0   \n",
       "\n",
       "   test_flg  \n",
       "0         0  \n",
       "1         0  \n",
       "2         0  \n",
       "3         0  \n",
       "4         0  "
      ]
     },
     "execution_count": 14,
     "metadata": {},
     "output_type": "execute_result"
    }
   ],
   "source": [
    "train = pd.concat([train_curated, train_noisy], axis=0, sort=False, ignore_index=True)\n",
    "train['noisy_flg'] = 0\n",
    "train.loc[len(train_curated):len(train_curated) + len(train_noisy), 'noisy_flg'] = 1\n",
    "train['n_labels'] = train['labels'].apply(lambda x: len(x.split(',')))\n",
    "\n",
    "total = pd.concat([train, test[['fname', 'nframe']]], axis=0, sort=False, ignore_index=True)\n",
    "total['test_flg'] = 0\n",
    "total.loc[len(train):len(train) + len(test), 'test_flg'] = 1\n",
    "total.head()"
   ]
  },
  {
   "cell_type": "markdown",
   "metadata": {},
   "source": [
    "### train_curated"
   ]
  },
  {
   "cell_type": "code",
   "execution_count": 15,
   "metadata": {
    "scrolled": true
   },
   "outputs": [
    {
     "data": {
      "text/html": [
       "<div>\n",
       "<style scoped>\n",
       "    .dataframe tbody tr th:only-of-type {\n",
       "        vertical-align: middle;\n",
       "    }\n",
       "\n",
       "    .dataframe tbody tr th {\n",
       "        vertical-align: top;\n",
       "    }\n",
       "\n",
       "    .dataframe thead th {\n",
       "        text-align: right;\n",
       "    }\n",
       "</style>\n",
       "<table border=\"1\" class=\"dataframe\">\n",
       "  <thead>\n",
       "    <tr style=\"text-align: right;\">\n",
       "      <th></th>\n",
       "      <th>fname</th>\n",
       "      <th>labels</th>\n",
       "      <th>nframe</th>\n",
       "      <th>wav_data_std</th>\n",
       "    </tr>\n",
       "  </thead>\n",
       "  <tbody>\n",
       "    <tr>\n",
       "      <th>534</th>\n",
       "      <td>1d44b0bd.wav</td>\n",
       "      <td>Whispering</td>\n",
       "      <td>623616</td>\n",
       "      <td>0.0</td>\n",
       "    </tr>\n",
       "  </tbody>\n",
       "</table>\n",
       "</div>"
      ],
      "text/plain": [
       "            fname      labels  nframe  wav_data_std\n",
       "534  1d44b0bd.wav  Whispering  623616           0.0"
      ]
     },
     "execution_count": 15,
     "metadata": {},
     "output_type": "execute_result"
    }
   ],
   "source": [
    "train_curated.query(\"wav_data_std == 0\")"
   ]
  },
  {
   "cell_type": "code",
   "execution_count": 17,
   "metadata": {},
   "outputs": [
    {
     "name": "stdout",
     "output_type": "stream",
     "text": [
      "1d44b0bd.wav\n",
      "../data/input/train_curated/\n"
     ]
    },
    {
     "data": {
      "text/html": [
       "<div>\n",
       "<style scoped>\n",
       "    .dataframe tbody tr th:only-of-type {\n",
       "        vertical-align: middle;\n",
       "    }\n",
       "\n",
       "    .dataframe tbody tr th {\n",
       "        vertical-align: top;\n",
       "    }\n",
       "\n",
       "    .dataframe thead th {\n",
       "        text-align: right;\n",
       "    }\n",
       "</style>\n",
       "<table border=\"1\" class=\"dataframe\">\n",
       "  <thead>\n",
       "    <tr style=\"text-align: right;\">\n",
       "      <th></th>\n",
       "      <th>fname</th>\n",
       "      <th>labels</th>\n",
       "      <th>nframe</th>\n",
       "      <th>wav_data_std</th>\n",
       "      <th>noisy_flg</th>\n",
       "      <th>n_labels</th>\n",
       "      <th>test_flg</th>\n",
       "    </tr>\n",
       "  </thead>\n",
       "  <tbody>\n",
       "    <tr>\n",
       "      <th>534</th>\n",
       "      <td>1d44b0bd.wav</td>\n",
       "      <td>Whispering</td>\n",
       "      <td>623616</td>\n",
       "      <td>0.0</td>\n",
       "      <td>0.0</td>\n",
       "      <td>1.0</td>\n",
       "      <td>0</td>\n",
       "    </tr>\n",
       "  </tbody>\n",
       "</table>\n",
       "</div>"
      ],
      "text/plain": [
       "            fname      labels  nframe  wav_data_std  noisy_flg  n_labels  \\\n",
       "534  1d44b0bd.wav  Whispering  623616           0.0        0.0       1.0   \n",
       "\n",
       "     test_flg  \n",
       "534         0  "
      ]
     },
     "metadata": {},
     "output_type": "display_data"
    },
    {
     "data": {
      "image/png": "[encoded data removed]",
      "text/plain": [
       "<Figure size 432x288 with 1 Axes>"
      ]
     },
     "metadata": {},
     "output_type": "display_data"
    }
   ],
   "source": [
    "def get_info(fname):\n",
    "    fname_record = total.query('fname == @fname')\n",
    "    noisy_flg = fname_record[\"noisy_flg\"].values[0]\n",
    "    test_flg = fname_record[\"test_flg\"].values[0]\n",
    "\n",
    "    if test_flg == 1:\n",
    "        wav_dir = data_dir + 'test/'\n",
    "    else:\n",
    "        if noisy_flg == 0:\n",
    "            wav_dir = data_dir + 'train_curated/'\n",
    "        else:\n",
    "            wav_dir = data_dir + 'train_noisy/'\n",
    "\n",
    "    print(fname)\n",
    "    print(wav_dir)\n",
    "    display(fname_record)\n",
    "    \n",
    "    rate, data = wavfile.read(wav_dir + fname)\n",
    "    plt.plot(data)\n",
    "    plt.show()\n",
    "    \n",
    "get_info('1d44b0bd.wav')"
   ]
  },
  {
   "cell_type": "markdown",
   "metadata": {},
   "source": [
    "### train_noisy"
   ]
  },
  {
   "cell_type": "code",
   "execution_count": 18,
   "metadata": {
    "scrolled": true
   },
   "outputs": [
    {
     "data": {
      "text/html": [
       "<div>\n",
       "<style scoped>\n",
       "    .dataframe tbody tr th:only-of-type {\n",
       "        vertical-align: middle;\n",
       "    }\n",
       "\n",
       "    .dataframe tbody tr th {\n",
       "        vertical-align: top;\n",
       "    }\n",
       "\n",
       "    .dataframe thead th {\n",
       "        text-align: right;\n",
       "    }\n",
       "</style>\n",
       "<table border=\"1\" class=\"dataframe\">\n",
       "  <thead>\n",
       "    <tr style=\"text-align: right;\">\n",
       "      <th></th>\n",
       "      <th>fname</th>\n",
       "      <th>labels</th>\n",
       "      <th>nframe</th>\n",
       "      <th>wav_data_std</th>\n",
       "    </tr>\n",
       "  </thead>\n",
       "  <tbody>\n",
       "    <tr>\n",
       "      <th>244</th>\n",
       "      <td>02f274b2.wav</td>\n",
       "      <td>Stream,Trickle_and_dribble</td>\n",
       "      <td>661500</td>\n",
       "      <td>0.0</td>\n",
       "    </tr>\n",
       "    <tr>\n",
       "      <th>665</th>\n",
       "      <td>08b34136.wav</td>\n",
       "      <td>Race_car_and_auto_racing</td>\n",
       "      <td>661500</td>\n",
       "      <td>0.0</td>\n",
       "    </tr>\n",
       "    <tr>\n",
       "      <th>2086</th>\n",
       "      <td>1af3bd88.wav</td>\n",
       "      <td>Car_passing_by,Bus,Race_car_and_auto_racing</td>\n",
       "      <td>661500</td>\n",
       "      <td>0.0</td>\n",
       "    </tr>\n",
       "    <tr>\n",
       "      <th>2460</th>\n",
       "      <td>1fd4f275.wav</td>\n",
       "      <td>Bus</td>\n",
       "      <td>661500</td>\n",
       "      <td>0.0</td>\n",
       "    </tr>\n",
       "    <tr>\n",
       "      <th>3701</th>\n",
       "      <td>2f503375.wav</td>\n",
       "      <td>Fill_(with_liquid),Water_tap_and_faucet,Drip,S...</td>\n",
       "      <td>661500</td>\n",
       "      <td>0.0</td>\n",
       "    </tr>\n",
       "    <tr>\n",
       "      <th>4101</th>\n",
       "      <td>3496256e.wav</td>\n",
       "      <td>Motorcycle</td>\n",
       "      <td>661500</td>\n",
       "      <td>0.0</td>\n",
       "    </tr>\n",
       "    <tr>\n",
       "      <th>6625</th>\n",
       "      <td>551a4b3b.wav</td>\n",
       "      <td>Chirp_and_tweet</td>\n",
       "      <td>661500</td>\n",
       "      <td>0.0</td>\n",
       "    </tr>\n",
       "    <tr>\n",
       "      <th>7026</th>\n",
       "      <td>5a5761c9.wav</td>\n",
       "      <td>Bus</td>\n",
       "      <td>661500</td>\n",
       "      <td>0.0</td>\n",
       "    </tr>\n",
       "    <tr>\n",
       "      <th>8500</th>\n",
       "      <td>6d062e59.wav</td>\n",
       "      <td>Bus</td>\n",
       "      <td>661500</td>\n",
       "      <td>0.0</td>\n",
       "    </tr>\n",
       "    <tr>\n",
       "      <th>9217</th>\n",
       "      <td>769d131d.wav</td>\n",
       "      <td>Race_car_and_auto_racing</td>\n",
       "      <td>661500</td>\n",
       "      <td>0.0</td>\n",
       "    </tr>\n",
       "    <tr>\n",
       "      <th>10894</th>\n",
       "      <td>8c712129.wav</td>\n",
       "      <td>Keys_jangling,Printer,Scissors</td>\n",
       "      <td>661500</td>\n",
       "      <td>0.0</td>\n",
       "    </tr>\n",
       "    <tr>\n",
       "      <th>11846</th>\n",
       "      <td>988cf8f2.wav</td>\n",
       "      <td>Race_car_and_auto_racing</td>\n",
       "      <td>661500</td>\n",
       "      <td>0.0</td>\n",
       "    </tr>\n",
       "    <tr>\n",
       "      <th>12400</th>\n",
       "      <td>9f4fa2df.wav</td>\n",
       "      <td>Car_passing_by</td>\n",
       "      <td>661500</td>\n",
       "      <td>0.0</td>\n",
       "    </tr>\n",
       "    <tr>\n",
       "      <th>13828</th>\n",
       "      <td>b1d2590c.wav</td>\n",
       "      <td>Bus</td>\n",
       "      <td>661500</td>\n",
       "      <td>0.0</td>\n",
       "    </tr>\n",
       "    <tr>\n",
       "      <th>14793</th>\n",
       "      <td>be273a3c.wav</td>\n",
       "      <td>Race_car_and_auto_racing</td>\n",
       "      <td>661500</td>\n",
       "      <td>0.0</td>\n",
       "    </tr>\n",
       "    <tr>\n",
       "      <th>16486</th>\n",
       "      <td>d527dcf0.wav</td>\n",
       "      <td>Zipper_(clothing)</td>\n",
       "      <td>661500</td>\n",
       "      <td>0.0</td>\n",
       "    </tr>\n",
       "    <tr>\n",
       "      <th>17756</th>\n",
       "      <td>e4faa2e1.wav</td>\n",
       "      <td>Motorcycle</td>\n",
       "      <td>661500</td>\n",
       "      <td>0.0</td>\n",
       "    </tr>\n",
       "    <tr>\n",
       "      <th>19401</th>\n",
       "      <td>fa659a71.wav</td>\n",
       "      <td>Bus</td>\n",
       "      <td>661500</td>\n",
       "      <td>0.0</td>\n",
       "    </tr>\n",
       "    <tr>\n",
       "      <th>19511</th>\n",
       "      <td>fba392d8.wav</td>\n",
       "      <td>Church_bell</td>\n",
       "      <td>661500</td>\n",
       "      <td>0.0</td>\n",
       "    </tr>\n",
       "  </tbody>\n",
       "</table>\n",
       "</div>"
      ],
      "text/plain": [
       "              fname                                             labels  \\\n",
       "244    02f274b2.wav                         Stream,Trickle_and_dribble   \n",
       "665    08b34136.wav                           Race_car_and_auto_racing   \n",
       "2086   1af3bd88.wav        Car_passing_by,Bus,Race_car_and_auto_racing   \n",
       "2460   1fd4f275.wav                                                Bus   \n",
       "3701   2f503375.wav  Fill_(with_liquid),Water_tap_and_faucet,Drip,S...   \n",
       "4101   3496256e.wav                                         Motorcycle   \n",
       "6625   551a4b3b.wav                                    Chirp_and_tweet   \n",
       "7026   5a5761c9.wav                                                Bus   \n",
       "8500   6d062e59.wav                                                Bus   \n",
       "9217   769d131d.wav                           Race_car_and_auto_racing   \n",
       "10894  8c712129.wav                     Keys_jangling,Printer,Scissors   \n",
       "11846  988cf8f2.wav                           Race_car_and_auto_racing   \n",
       "12400  9f4fa2df.wav                                     Car_passing_by   \n",
       "13828  b1d2590c.wav                                                Bus   \n",
       "14793  be273a3c.wav                           Race_car_and_auto_racing   \n",
       "16486  d527dcf0.wav                                  Zipper_(clothing)   \n",
       "17756  e4faa2e1.wav                                         Motorcycle   \n",
       "19401  fa659a71.wav                                                Bus   \n",
       "19511  fba392d8.wav                                        Church_bell   \n",
       "\n",
       "       nframe  wav_data_std  \n",
       "244    661500           0.0  \n",
       "665    661500           0.0  \n",
       "2086   661500           0.0  \n",
       "2460   661500           0.0  \n",
       "3701   661500           0.0  \n",
       "4101   661500           0.0  \n",
       "6625   661500           0.0  \n",
       "7026   661500           0.0  \n",
       "8500   661500           0.0  \n",
       "9217   661500           0.0  \n",
       "10894  661500           0.0  \n",
       "11846  661500           0.0  \n",
       "12400  661500           0.0  \n",
       "13828  661500           0.0  \n",
       "14793  661500           0.0  \n",
       "16486  661500           0.0  \n",
       "17756  661500           0.0  \n",
       "19401  661500           0.0  \n",
       "19511  661500           0.0  "
      ]
     },
     "execution_count": 18,
     "metadata": {},
     "output_type": "execute_result"
    }
   ],
   "source": [
    "train_noisy.query(\"wav_data_std == 0\")"
   ]
  },
  {
   "cell_type": "code",
   "execution_count": 19,
   "metadata": {},
   "outputs": [
    {
     "data": {
      "text/plain": [
       "19"
      ]
     },
     "execution_count": 19,
     "metadata": {},
     "output_type": "execute_result"
    }
   ],
   "source": [
    "silent_wav_list = train_noisy.query(\"wav_data_std == 0\").fname.tolist()\n",
    "len(silent_wav_list)"
   ]
  },
  {
   "cell_type": "code",
   "execution_count": 20,
   "metadata": {},
   "outputs": [
    {
     "name": "stdout",
     "output_type": "stream",
     "text": [
      "02f274b2.wav\n",
      "../data/input/train_noisy/\n"
     ]
    },
    {
     "data": {
      "text/html": [
       "<div>\n",
       "<style scoped>\n",
       "    .dataframe tbody tr th:only-of-type {\n",
       "        vertical-align: middle;\n",
       "    }\n",
       "\n",
       "    .dataframe tbody tr th {\n",
       "        vertical-align: top;\n",
       "    }\n",
       "\n",
       "    .dataframe thead th {\n",
       "        text-align: right;\n",
       "    }\n",
       "</style>\n",
       "<table border=\"1\" class=\"dataframe\">\n",
       "  <thead>\n",
       "    <tr style=\"text-align: right;\">\n",
       "      <th></th>\n",
       "      <th>fname</th>\n",
       "      <th>labels</th>\n",
       "      <th>nframe</th>\n",
       "      <th>wav_data_std</th>\n",
       "      <th>noisy_flg</th>\n",
       "      <th>n_labels</th>\n",
       "      <th>test_flg</th>\n",
       "    </tr>\n",
       "  </thead>\n",
       "  <tbody>\n",
       "    <tr>\n",
       "      <th>5214</th>\n",
       "      <td>02f274b2.wav</td>\n",
       "      <td>Stream,Trickle_and_dribble</td>\n",
       "      <td>661500</td>\n",
       "      <td>0.0</td>\n",
       "      <td>1.0</td>\n",
       "      <td>2.0</td>\n",
       "      <td>0</td>\n",
       "    </tr>\n",
       "  </tbody>\n",
       "</table>\n",
       "</div>"
      ],
      "text/plain": [
       "             fname                      labels  nframe  wav_data_std  \\\n",
       "5214  02f274b2.wav  Stream,Trickle_and_dribble  661500           0.0   \n",
       "\n",
       "      noisy_flg  n_labels  test_flg  \n",
       "5214        1.0       2.0         0  "
      ]
     },
     "metadata": {},
     "output_type": "display_data"
    },
    {
     "data": {
      "image/png": "[encoded data removed]",
      "text/plain": [
       "<Figure size 432x288 with 1 Axes>"
      ]
     },
     "metadata": {},
     "output_type": "display_data"
    },
    {
     "name": "stdout",
     "output_type": "stream",
     "text": [
      "08b34136.wav\n",
      "../data/input/train_noisy/\n"
     ]
    },
    {
     "data": {
      "text/html": [
       "<div>\n",
       "<style scoped>\n",
       "    .dataframe tbody tr th:only-of-type {\n",
       "        vertical-align: middle;\n",
       "    }\n",
       "\n",
       "    .dataframe tbody tr th {\n",
       "        vertical-align: top;\n",
       "    }\n",
       "\n",
       "    .dataframe thead th {\n",
       "        text-align: right;\n",
       "    }\n",
       "</style>\n",
       "<table border=\"1\" class=\"dataframe\">\n",
       "  <thead>\n",
       "    <tr style=\"text-align: right;\">\n",
       "      <th></th>\n",
       "      <th>fname</th>\n",
       "      <th>labels</th>\n",
       "      <th>nframe</th>\n",
       "      <th>wav_data_std</th>\n",
       "      <th>noisy_flg</th>\n",
       "      <th>n_labels</th>\n",
       "      <th>test_flg</th>\n",
       "    </tr>\n",
       "  </thead>\n",
       "  <tbody>\n",
       "    <tr>\n",
       "      <th>5635</th>\n",
       "      <td>08b34136.wav</td>\n",
       "      <td>Race_car_and_auto_racing</td>\n",
       "      <td>661500</td>\n",
       "      <td>0.0</td>\n",
       "      <td>1.0</td>\n",
       "      <td>1.0</td>\n",
       "      <td>0</td>\n",
       "    </tr>\n",
       "  </tbody>\n",
       "</table>\n",
       "</div>"
      ],
      "text/plain": [
       "             fname                    labels  nframe  wav_data_std  noisy_flg  \\\n",
       "5635  08b34136.wav  Race_car_and_auto_racing  661500           0.0        1.0   \n",
       "\n",
       "      n_labels  test_flg  \n",
       "5635       1.0         0  "
      ]
     },
     "metadata": {},
     "output_type": "display_data"
    },
    {
     "data": {
      "image/png": "[encoded data removed]",
      "text/plain": [
       "<Figure size 432x288 with 1 Axes>"
      ]
     },
     "metadata": {},
     "output_type": "display_data"
    },
    {
     "name": "stdout",
     "output_type": "stream",
     "text": [
      "1af3bd88.wav\n",
      "../data/input/train_noisy/\n"
     ]
    },
    {
     "data": {
      "text/html": [
       "<div>\n",
       "<style scoped>\n",
       "    .dataframe tbody tr th:only-of-type {\n",
       "        vertical-align: middle;\n",
       "    }\n",
       "\n",
       "    .dataframe tbody tr th {\n",
       "        vertical-align: top;\n",
       "    }\n",
       "\n",
       "    .dataframe thead th {\n",
       "        text-align: right;\n",
       "    }\n",
       "</style>\n",
       "<table border=\"1\" class=\"dataframe\">\n",
       "  <thead>\n",
       "    <tr style=\"text-align: right;\">\n",
       "      <th></th>\n",
       "      <th>fname</th>\n",
       "      <th>labels</th>\n",
       "      <th>nframe</th>\n",
       "      <th>wav_data_std</th>\n",
       "      <th>noisy_flg</th>\n",
       "      <th>n_labels</th>\n",
       "      <th>test_flg</th>\n",
       "    </tr>\n",
       "  </thead>\n",
       "  <tbody>\n",
       "    <tr>\n",
       "      <th>7056</th>\n",
       "      <td>1af3bd88.wav</td>\n",
       "      <td>Car_passing_by,Bus,Race_car_and_auto_racing</td>\n",
       "      <td>661500</td>\n",
       "      <td>0.0</td>\n",
       "      <td>1.0</td>\n",
       "      <td>3.0</td>\n",
       "      <td>0</td>\n",
       "    </tr>\n",
       "  </tbody>\n",
       "</table>\n",
       "</div>"
      ],
      "text/plain": [
       "             fname                                       labels  nframe  \\\n",
       "7056  1af3bd88.wav  Car_passing_by,Bus,Race_car_and_auto_racing  661500   \n",
       "\n",
       "      wav_data_std  noisy_flg  n_labels  test_flg  \n",
       "7056           0.0        1.0       3.0         0  "
      ]
     },
     "metadata": {},
     "output_type": "display_data"
    },
    {
     "data": {
      "image/png": "[encoded data removed]",
      "text/plain": [
       "<Figure size 432x288 with 1 Axes>"
      ]
     },
     "metadata": {},
     "output_type": "display_data"
    },
    {
     "name": "stdout",
     "output_type": "stream",
     "text": [
      "1fd4f275.wav\n",
      "../data/input/train_noisy/\n"
     ]
    },
    {
     "data": {
      "text/html": [
       "<div>\n",
       "<style scoped>\n",
       "    .dataframe tbody tr th:only-of-type {\n",
       "        vertical-align: middle;\n",
       "    }\n",
       "\n",
       "    .dataframe tbody tr th {\n",
       "        vertical-align: top;\n",
       "    }\n",
       "\n",
       "    .dataframe thead th {\n",
       "        text-align: right;\n",
       "    }\n",
       "</style>\n",
       "<table border=\"1\" class=\"dataframe\">\n",
       "  <thead>\n",
       "    <tr style=\"text-align: right;\">\n",
       "      <th></th>\n",
       "      <th>fname</th>\n",
       "      <th>labels</th>\n",
       "      <th>nframe</th>\n",
       "      <th>wav_data_std</th>\n",
       "      <th>noisy_flg</th>\n",
       "      <th>n_labels</th>\n",
       "      <th>test_flg</th>\n",
       "    </tr>\n",
       "  </thead>\n",
       "  <tbody>\n",
       "    <tr>\n",
       "      <th>7430</th>\n",
       "      <td>1fd4f275.wav</td>\n",
       "      <td>Bus</td>\n",
       "      <td>661500</td>\n",
       "      <td>0.0</td>\n",
       "      <td>1.0</td>\n",
       "      <td>1.0</td>\n",
       "      <td>0</td>\n",
       "    </tr>\n",
       "  </tbody>\n",
       "</table>\n",
       "</div>"
      ],
      "text/plain": [
       "             fname labels  nframe  wav_data_std  noisy_flg  n_labels  test_flg\n",
       "7430  1fd4f275.wav    Bus  661500           0.0        1.0       1.0         0"
      ]
     },
     "metadata": {},
     "output_type": "display_data"
    },
    {
     "data": {
      "image/png": "[encoded data removed]",
      "text/plain": [
       "<Figure size 432x288 with 1 Axes>"
      ]
     },
     "metadata": {},
     "output_type": "display_data"
    },
    {
     "name": "stdout",
     "output_type": "stream",
     "text": [
      "2f503375.wav\n",
      "../data/input/train_noisy/\n"
     ]
    },
    {
     "data": {
      "text/html": [
       "<div>\n",
       "<style scoped>\n",
       "    .dataframe tbody tr th:only-of-type {\n",
       "        vertical-align: middle;\n",
       "    }\n",
       "\n",
       "    .dataframe tbody tr th {\n",
       "        vertical-align: top;\n",
       "    }\n",
       "\n",
       "    .dataframe thead th {\n",
       "        text-align: right;\n",
       "    }\n",
       "</style>\n",
       "<table border=\"1\" class=\"dataframe\">\n",
       "  <thead>\n",
       "    <tr style=\"text-align: right;\">\n",
       "      <th></th>\n",
       "      <th>fname</th>\n",
       "      <th>labels</th>\n",
       "      <th>nframe</th>\n",
       "      <th>wav_data_std</th>\n",
       "      <th>noisy_flg</th>\n",
       "      <th>n_labels</th>\n",
       "      <th>test_flg</th>\n",
       "    </tr>\n",
       "  </thead>\n",
       "  <tbody>\n",
       "    <tr>\n",
       "      <th>8671</th>\n",
       "      <td>2f503375.wav</td>\n",
       "      <td>Fill_(with_liquid),Water_tap_and_faucet,Drip,S...</td>\n",
       "      <td>661500</td>\n",
       "      <td>0.0</td>\n",
       "      <td>1.0</td>\n",
       "      <td>5.0</td>\n",
       "      <td>0</td>\n",
       "    </tr>\n",
       "  </tbody>\n",
       "</table>\n",
       "</div>"
      ],
      "text/plain": [
       "             fname                                             labels  nframe  \\\n",
       "8671  2f503375.wav  Fill_(with_liquid),Water_tap_and_faucet,Drip,S...  661500   \n",
       "\n",
       "      wav_data_std  noisy_flg  n_labels  test_flg  \n",
       "8671           0.0        1.0       5.0         0  "
      ]
     },
     "metadata": {},
     "output_type": "display_data"
    },
    {
     "data": {
      "image/png": "[encoded data removed]",
      "text/plain": [
       "<Figure size 432x288 with 1 Axes>"
      ]
     },
     "metadata": {},
     "output_type": "display_data"
    },
    {
     "name": "stdout",
     "output_type": "stream",
     "text": [
      "3496256e.wav\n",
      "../data/input/train_noisy/\n"
     ]
    },
    {
     "data": {
      "text/html": [
       "<div>\n",
       "<style scoped>\n",
       "    .dataframe tbody tr th:only-of-type {\n",
       "        vertical-align: middle;\n",
       "    }\n",
       "\n",
       "    .dataframe tbody tr th {\n",
       "        vertical-align: top;\n",
       "    }\n",
       "\n",
       "    .dataframe thead th {\n",
       "        text-align: right;\n",
       "    }\n",
       "</style>\n",
       "<table border=\"1\" class=\"dataframe\">\n",
       "  <thead>\n",
       "    <tr style=\"text-align: right;\">\n",
       "      <th></th>\n",
       "      <th>fname</th>\n",
       "      <th>labels</th>\n",
       "      <th>nframe</th>\n",
       "      <th>wav_data_std</th>\n",
       "      <th>noisy_flg</th>\n",
       "      <th>n_labels</th>\n",
       "      <th>test_flg</th>\n",
       "    </tr>\n",
       "  </thead>\n",
       "  <tbody>\n",
       "    <tr>\n",
       "      <th>9071</th>\n",
       "      <td>3496256e.wav</td>\n",
       "      <td>Motorcycle</td>\n",
       "      <td>661500</td>\n",
       "      <td>0.0</td>\n",
       "      <td>1.0</td>\n",
       "      <td>1.0</td>\n",
       "      <td>0</td>\n",
       "    </tr>\n",
       "  </tbody>\n",
       "</table>\n",
       "</div>"
      ],
      "text/plain": [
       "             fname      labels  nframe  wav_data_std  noisy_flg  n_labels  \\\n",
       "9071  3496256e.wav  Motorcycle  661500           0.0        1.0       1.0   \n",
       "\n",
       "      test_flg  \n",
       "9071         0  "
      ]
     },
     "metadata": {},
     "output_type": "display_data"
    },
    {
     "data": {
      "image/png": "[encoded data removed]",
      "text/plain": [
       "<Figure size 432x288 with 1 Axes>"
      ]
     },
     "metadata": {},
     "output_type": "display_data"
    },
    {
     "name": "stdout",
     "output_type": "stream",
     "text": [
      "551a4b3b.wav\n",
      "../data/input/train_noisy/\n"
     ]
    },
    {
     "data": {
      "text/html": [
       "<div>\n",
       "<style scoped>\n",
       "    .dataframe tbody tr th:only-of-type {\n",
       "        vertical-align: middle;\n",
       "    }\n",
       "\n",
       "    .dataframe tbody tr th {\n",
       "        vertical-align: top;\n",
       "    }\n",
       "\n",
       "    .dataframe thead th {\n",
       "        text-align: right;\n",
       "    }\n",
       "</style>\n",
       "<table border=\"1\" class=\"dataframe\">\n",
       "  <thead>\n",
       "    <tr style=\"text-align: right;\">\n",
       "      <th></th>\n",
       "      <th>fname</th>\n",
       "      <th>labels</th>\n",
       "      <th>nframe</th>\n",
       "      <th>wav_data_std</th>\n",
       "      <th>noisy_flg</th>\n",
       "      <th>n_labels</th>\n",
       "      <th>test_flg</th>\n",
       "    </tr>\n",
       "  </thead>\n",
       "  <tbody>\n",
       "    <tr>\n",
       "      <th>11595</th>\n",
       "      <td>551a4b3b.wav</td>\n",
       "      <td>Chirp_and_tweet</td>\n",
       "      <td>661500</td>\n",
       "      <td>0.0</td>\n",
       "      <td>1.0</td>\n",
       "      <td>1.0</td>\n",
       "      <td>0</td>\n",
       "    </tr>\n",
       "  </tbody>\n",
       "</table>\n",
       "</div>"
      ],
      "text/plain": [
       "              fname           labels  nframe  wav_data_std  noisy_flg  \\\n",
       "11595  551a4b3b.wav  Chirp_and_tweet  661500           0.0        1.0   \n",
       "\n",
       "       n_labels  test_flg  \n",
       "11595       1.0         0  "
      ]
     },
     "metadata": {},
     "output_type": "display_data"
    },
    {
     "data": {
      "image/png": "[encoded data removed]",
      "text/plain": [
       "<Figure size 432x288 with 1 Axes>"
      ]
     },
     "metadata": {},
     "output_type": "display_data"
    },
    {
     "name": "stdout",
     "output_type": "stream",
     "text": [
      "5a5761c9.wav\n",
      "../data/input/train_noisy/\n"
     ]
    },
    {
     "data": {
      "text/html": [
       "<div>\n",
       "<style scoped>\n",
       "    .dataframe tbody tr th:only-of-type {\n",
       "        vertical-align: middle;\n",
       "    }\n",
       "\n",
       "    .dataframe tbody tr th {\n",
       "        vertical-align: top;\n",
       "    }\n",
       "\n",
       "    .dataframe thead th {\n",
       "        text-align: right;\n",
       "    }\n",
       "</style>\n",
       "<table border=\"1\" class=\"dataframe\">\n",
       "  <thead>\n",
       "    <tr style=\"text-align: right;\">\n",
       "      <th></th>\n",
       "      <th>fname</th>\n",
       "      <th>labels</th>\n",
       "      <th>nframe</th>\n",
       "      <th>wav_data_std</th>\n",
       "      <th>noisy_flg</th>\n",
       "      <th>n_labels</th>\n",
       "      <th>test_flg</th>\n",
       "    </tr>\n",
       "  </thead>\n",
       "  <tbody>\n",
       "    <tr>\n",
       "      <th>11996</th>\n",
       "      <td>5a5761c9.wav</td>\n",
       "      <td>Bus</td>\n",
       "      <td>661500</td>\n",
       "      <td>0.0</td>\n",
       "      <td>1.0</td>\n",
       "      <td>1.0</td>\n",
       "      <td>0</td>\n",
       "    </tr>\n",
       "  </tbody>\n",
       "</table>\n",
       "</div>"
      ],
      "text/plain": [
       "              fname labels  nframe  wav_data_std  noisy_flg  n_labels  \\\n",
       "11996  5a5761c9.wav    Bus  661500           0.0        1.0       1.0   \n",
       "\n",
       "       test_flg  \n",
       "11996         0  "
      ]
     },
     "metadata": {},
     "output_type": "display_data"
    },
    {
     "data": {
      "image/png": "[encoded data removed]",
      "text/plain": [
       "<Figure size 432x288 with 1 Axes>"
      ]
     },
     "metadata": {},
     "output_type": "display_data"
    },
    {
     "name": "stdout",
     "output_type": "stream",
     "text": [
      "6d062e59.wav\n",
      "../data/input/train_noisy/\n"
     ]
    },
    {
     "data": {
      "text/html": [
       "<div>\n",
       "<style scoped>\n",
       "    .dataframe tbody tr th:only-of-type {\n",
       "        vertical-align: middle;\n",
       "    }\n",
       "\n",
       "    .dataframe tbody tr th {\n",
       "        vertical-align: top;\n",
       "    }\n",
       "\n",
       "    .dataframe thead th {\n",
       "        text-align: right;\n",
       "    }\n",
       "</style>\n",
       "<table border=\"1\" class=\"dataframe\">\n",
       "  <thead>\n",
       "    <tr style=\"text-align: right;\">\n",
       "      <th></th>\n",
       "      <th>fname</th>\n",
       "      <th>labels</th>\n",
       "      <th>nframe</th>\n",
       "      <th>wav_data_std</th>\n",
       "      <th>noisy_flg</th>\n",
       "      <th>n_labels</th>\n",
       "      <th>test_flg</th>\n",
       "    </tr>\n",
       "  </thead>\n",
       "  <tbody>\n",
       "    <tr>\n",
       "      <th>13470</th>\n",
       "      <td>6d062e59.wav</td>\n",
       "      <td>Bus</td>\n",
       "      <td>661500</td>\n",
       "      <td>0.0</td>\n",
       "      <td>1.0</td>\n",
       "      <td>1.0</td>\n",
       "      <td>0</td>\n",
       "    </tr>\n",
       "  </tbody>\n",
       "</table>\n",
       "</div>"
      ],
      "text/plain": [
       "              fname labels  nframe  wav_data_std  noisy_flg  n_labels  \\\n",
       "13470  6d062e59.wav    Bus  661500           0.0        1.0       1.0   \n",
       "\n",
       "       test_flg  \n",
       "13470         0  "
      ]
     },
     "metadata": {},
     "output_type": "display_data"
    },
    {
     "data": {
      "image/png": "[encoded data removed]",
      "text/plain": [
       "<Figure size 432x288 with 1 Axes>"
      ]
     },
     "metadata": {},
     "output_type": "display_data"
    },
    {
     "name": "stdout",
     "output_type": "stream",
     "text": [
      "769d131d.wav\n",
      "../data/input/train_noisy/\n"
     ]
    },
    {
     "data": {
      "text/html": [
       "<div>\n",
       "<style scoped>\n",
       "    .dataframe tbody tr th:only-of-type {\n",
       "        vertical-align: middle;\n",
       "    }\n",
       "\n",
       "    .dataframe tbody tr th {\n",
       "        vertical-align: top;\n",
       "    }\n",
       "\n",
       "    .dataframe thead th {\n",
       "        text-align: right;\n",
       "    }\n",
       "</style>\n",
       "<table border=\"1\" class=\"dataframe\">\n",
       "  <thead>\n",
       "    <tr style=\"text-align: right;\">\n",
       "      <th></th>\n",
       "      <th>fname</th>\n",
       "      <th>labels</th>\n",
       "      <th>nframe</th>\n",
       "      <th>wav_data_std</th>\n",
       "      <th>noisy_flg</th>\n",
       "      <th>n_labels</th>\n",
       "      <th>test_flg</th>\n",
       "    </tr>\n",
       "  </thead>\n",
       "  <tbody>\n",
       "    <tr>\n",
       "      <th>14187</th>\n",
       "      <td>769d131d.wav</td>\n",
       "      <td>Race_car_and_auto_racing</td>\n",
       "      <td>661500</td>\n",
       "      <td>0.0</td>\n",
       "      <td>1.0</td>\n",
       "      <td>1.0</td>\n",
       "      <td>0</td>\n",
       "    </tr>\n",
       "  </tbody>\n",
       "</table>\n",
       "</div>"
      ],
      "text/plain": [
       "              fname                    labels  nframe  wav_data_std  \\\n",
       "14187  769d131d.wav  Race_car_and_auto_racing  661500           0.0   \n",
       "\n",
       "       noisy_flg  n_labels  test_flg  \n",
       "14187        1.0       1.0         0  "
      ]
     },
     "metadata": {},
     "output_type": "display_data"
    },
    {
     "data": {
      "image/png": "[encoded data removed]",
      "text/plain": [
       "<Figure size 432x288 with 1 Axes>"
      ]
     },
     "metadata": {},
     "output_type": "display_data"
    },
    {
     "name": "stdout",
     "output_type": "stream",
     "text": [
      "8c712129.wav\n",
      "../data/input/train_noisy/\n"
     ]
    },
    {
     "data": {
      "text/html": [
       "<div>\n",
       "<style scoped>\n",
       "    .dataframe tbody tr th:only-of-type {\n",
       "        vertical-align: middle;\n",
       "    }\n",
       "\n",
       "    .dataframe tbody tr th {\n",
       "        vertical-align: top;\n",
       "    }\n",
       "\n",
       "    .dataframe thead th {\n",
       "        text-align: right;\n",
       "    }\n",
       "</style>\n",
       "<table border=\"1\" class=\"dataframe\">\n",
       "  <thead>\n",
       "    <tr style=\"text-align: right;\">\n",
       "      <th></th>\n",
       "      <th>fname</th>\n",
       "      <th>labels</th>\n",
       "      <th>nframe</th>\n",
       "      <th>wav_data_std</th>\n",
       "      <th>noisy_flg</th>\n",
       "      <th>n_labels</th>\n",
       "      <th>test_flg</th>\n",
       "    </tr>\n",
       "  </thead>\n",
       "  <tbody>\n",
       "    <tr>\n",
       "      <th>15864</th>\n",
       "      <td>8c712129.wav</td>\n",
       "      <td>Keys_jangling,Printer,Scissors</td>\n",
       "      <td>661500</td>\n",
       "      <td>0.0</td>\n",
       "      <td>1.0</td>\n",
       "      <td>3.0</td>\n",
       "      <td>0</td>\n",
       "    </tr>\n",
       "  </tbody>\n",
       "</table>\n",
       "</div>"
      ],
      "text/plain": [
       "              fname                          labels  nframe  wav_data_std  \\\n",
       "15864  8c712129.wav  Keys_jangling,Printer,Scissors  661500           0.0   \n",
       "\n",
       "       noisy_flg  n_labels  test_flg  \n",
       "15864        1.0       3.0         0  "
      ]
     },
     "metadata": {},
     "output_type": "display_data"
    },
    {
     "data": {
      "image/png": "[encoded data removed]",
      "text/plain": [
       "<Figure size 432x288 with 1 Axes>"
      ]
     },
     "metadata": {},
     "output_type": "display_data"
    },
    {
     "name": "stdout",
     "output_type": "stream",
     "text": [
      "988cf8f2.wav\n",
      "../data/input/train_noisy/\n"
     ]
    },
    {
     "data": {
      "text/html": [
       "<div>\n",
       "<style scoped>\n",
       "    .dataframe tbody tr th:only-of-type {\n",
       "        vertical-align: middle;\n",
       "    }\n",
       "\n",
       "    .dataframe tbody tr th {\n",
       "        vertical-align: top;\n",
       "    }\n",
       "\n",
       "    .dataframe thead th {\n",
       "        text-align: right;\n",
       "    }\n",
       "</style>\n",
       "<table border=\"1\" class=\"dataframe\">\n",
       "  <thead>\n",
       "    <tr style=\"text-align: right;\">\n",
       "      <th></th>\n",
       "      <th>fname</th>\n",
       "      <th>labels</th>\n",
       "      <th>nframe</th>\n",
       "      <th>wav_data_std</th>\n",
       "      <th>noisy_flg</th>\n",
       "      <th>n_labels</th>\n",
       "      <th>test_flg</th>\n",
       "    </tr>\n",
       "  </thead>\n",
       "  <tbody>\n",
       "    <tr>\n",
       "      <th>16816</th>\n",
       "      <td>988cf8f2.wav</td>\n",
       "      <td>Race_car_and_auto_racing</td>\n",
       "      <td>661500</td>\n",
       "      <td>0.0</td>\n",
       "      <td>1.0</td>\n",
       "      <td>1.0</td>\n",
       "      <td>0</td>\n",
       "    </tr>\n",
       "  </tbody>\n",
       "</table>\n",
       "</div>"
      ],
      "text/plain": [
       "              fname                    labels  nframe  wav_data_std  \\\n",
       "16816  988cf8f2.wav  Race_car_and_auto_racing  661500           0.0   \n",
       "\n",
       "       noisy_flg  n_labels  test_flg  \n",
       "16816        1.0       1.0         0  "
      ]
     },
     "metadata": {},
     "output_type": "display_data"
    },
    {
     "data": {
      "image/png": "[encoded data removed]",
      "text/plain": [
       "<Figure size 432x288 with 1 Axes>"
      ]
     },
     "metadata": {},
     "output_type": "display_data"
    },
    {
     "name": "stdout",
     "output_type": "stream",
     "text": [
      "9f4fa2df.wav\n",
      "../data/input/train_noisy/\n"
     ]
    },
    {
     "data": {
      "text/html": [
       "<div>\n",
       "<style scoped>\n",
       "    .dataframe tbody tr th:only-of-type {\n",
       "        vertical-align: middle;\n",
       "    }\n",
       "\n",
       "    .dataframe tbody tr th {\n",
       "        vertical-align: top;\n",
       "    }\n",
       "\n",
       "    .dataframe thead th {\n",
       "        text-align: right;\n",
       "    }\n",
       "</style>\n",
       "<table border=\"1\" class=\"dataframe\">\n",
       "  <thead>\n",
       "    <tr style=\"text-align: right;\">\n",
       "      <th></th>\n",
       "      <th>fname</th>\n",
       "      <th>labels</th>\n",
       "      <th>nframe</th>\n",
       "      <th>wav_data_std</th>\n",
       "      <th>noisy_flg</th>\n",
       "      <th>n_labels</th>\n",
       "      <th>test_flg</th>\n",
       "    </tr>\n",
       "  </thead>\n",
       "  <tbody>\n",
       "    <tr>\n",
       "      <th>17370</th>\n",
       "      <td>9f4fa2df.wav</td>\n",
       "      <td>Car_passing_by</td>\n",
       "      <td>661500</td>\n",
       "      <td>0.0</td>\n",
       "      <td>1.0</td>\n",
       "      <td>1.0</td>\n",
       "      <td>0</td>\n",
       "    </tr>\n",
       "  </tbody>\n",
       "</table>\n",
       "</div>"
      ],
      "text/plain": [
       "              fname          labels  nframe  wav_data_std  noisy_flg  \\\n",
       "17370  9f4fa2df.wav  Car_passing_by  661500           0.0        1.0   \n",
       "\n",
       "       n_labels  test_flg  \n",
       "17370       1.0         0  "
      ]
     },
     "metadata": {},
     "output_type": "display_data"
    },
    {
     "data": {
      "image/png": "[encoded data removed]",
      "text/plain": [
       "<Figure size 432x288 with 1 Axes>"
      ]
     },
     "metadata": {},
     "output_type": "display_data"
    },
    {
     "name": "stdout",
     "output_type": "stream",
     "text": [
      "b1d2590c.wav\n",
      "../data/input/train_noisy/\n"
     ]
    },
    {
     "data": {
      "text/html": [
       "<div>\n",
       "<style scoped>\n",
       "    .dataframe tbody tr th:only-of-type {\n",
       "        vertical-align: middle;\n",
       "    }\n",
       "\n",
       "    .dataframe tbody tr th {\n",
       "        vertical-align: top;\n",
       "    }\n",
       "\n",
       "    .dataframe thead th {\n",
       "        text-align: right;\n",
       "    }\n",
       "</style>\n",
       "<table border=\"1\" class=\"dataframe\">\n",
       "  <thead>\n",
       "    <tr style=\"text-align: right;\">\n",
       "      <th></th>\n",
       "      <th>fname</th>\n",
       "      <th>labels</th>\n",
       "      <th>nframe</th>\n",
       "      <th>wav_data_std</th>\n",
       "      <th>noisy_flg</th>\n",
       "      <th>n_labels</th>\n",
       "      <th>test_flg</th>\n",
       "    </tr>\n",
       "  </thead>\n",
       "  <tbody>\n",
       "    <tr>\n",
       "      <th>18798</th>\n",
       "      <td>b1d2590c.wav</td>\n",
       "      <td>Bus</td>\n",
       "      <td>661500</td>\n",
       "      <td>0.0</td>\n",
       "      <td>1.0</td>\n",
       "      <td>1.0</td>\n",
       "      <td>0</td>\n",
       "    </tr>\n",
       "  </tbody>\n",
       "</table>\n",
       "</div>"
      ],
      "text/plain": [
       "              fname labels  nframe  wav_data_std  noisy_flg  n_labels  \\\n",
       "18798  b1d2590c.wav    Bus  661500           0.0        1.0       1.0   \n",
       "\n",
       "       test_flg  \n",
       "18798         0  "
      ]
     },
     "metadata": {},
     "output_type": "display_data"
    },
    {
     "data": {
      "image/png": "[encoded data removed]",
      "text/plain": [
       "<Figure size 432x288 with 1 Axes>"
      ]
     },
     "metadata": {},
     "output_type": "display_data"
    },
    {
     "name": "stdout",
     "output_type": "stream",
     "text": [
      "be273a3c.wav\n",
      "../data/input/train_noisy/\n"
     ]
    },
    {
     "data": {
      "text/html": [
       "<div>\n",
       "<style scoped>\n",
       "    .dataframe tbody tr th:only-of-type {\n",
       "        vertical-align: middle;\n",
       "    }\n",
       "\n",
       "    .dataframe tbody tr th {\n",
       "        vertical-align: top;\n",
       "    }\n",
       "\n",
       "    .dataframe thead th {\n",
       "        text-align: right;\n",
       "    }\n",
       "</style>\n",
       "<table border=\"1\" class=\"dataframe\">\n",
       "  <thead>\n",
       "    <tr style=\"text-align: right;\">\n",
       "      <th></th>\n",
       "      <th>fname</th>\n",
       "      <th>labels</th>\n",
       "      <th>nframe</th>\n",
       "      <th>wav_data_std</th>\n",
       "      <th>noisy_flg</th>\n",
       "      <th>n_labels</th>\n",
       "      <th>test_flg</th>\n",
       "    </tr>\n",
       "  </thead>\n",
       "  <tbody>\n",
       "    <tr>\n",
       "      <th>19763</th>\n",
       "      <td>be273a3c.wav</td>\n",
       "      <td>Race_car_and_auto_racing</td>\n",
       "      <td>661500</td>\n",
       "      <td>0.0</td>\n",
       "      <td>1.0</td>\n",
       "      <td>1.0</td>\n",
       "      <td>0</td>\n",
       "    </tr>\n",
       "  </tbody>\n",
       "</table>\n",
       "</div>"
      ],
      "text/plain": [
       "              fname                    labels  nframe  wav_data_std  \\\n",
       "19763  be273a3c.wav  Race_car_and_auto_racing  661500           0.0   \n",
       "\n",
       "       noisy_flg  n_labels  test_flg  \n",
       "19763        1.0       1.0         0  "
      ]
     },
     "metadata": {},
     "output_type": "display_data"
    },
    {
     "data": {
      "image/png": "[encoded data removed]",
      "text/plain": [
       "<Figure size 432x288 with 1 Axes>"
      ]
     },
     "metadata": {},
     "output_type": "display_data"
    },
    {
     "name": "stdout",
     "output_type": "stream",
     "text": [
      "d527dcf0.wav\n",
      "../data/input/train_noisy/\n"
     ]
    },
    {
     "data": {
      "text/html": [
       "<div>\n",
       "<style scoped>\n",
       "    .dataframe tbody tr th:only-of-type {\n",
       "        vertical-align: middle;\n",
       "    }\n",
       "\n",
       "    .dataframe tbody tr th {\n",
       "        vertical-align: top;\n",
       "    }\n",
       "\n",
       "    .dataframe thead th {\n",
       "        text-align: right;\n",
       "    }\n",
       "</style>\n",
       "<table border=\"1\" class=\"dataframe\">\n",
       "  <thead>\n",
       "    <tr style=\"text-align: right;\">\n",
       "      <th></th>\n",
       "      <th>fname</th>\n",
       "      <th>labels</th>\n",
       "      <th>nframe</th>\n",
       "      <th>wav_data_std</th>\n",
       "      <th>noisy_flg</th>\n",
       "      <th>n_labels</th>\n",
       "      <th>test_flg</th>\n",
       "    </tr>\n",
       "  </thead>\n",
       "  <tbody>\n",
       "    <tr>\n",
       "      <th>21456</th>\n",
       "      <td>d527dcf0.wav</td>\n",
       "      <td>Zipper_(clothing)</td>\n",
       "      <td>661500</td>\n",
       "      <td>0.0</td>\n",
       "      <td>1.0</td>\n",
       "      <td>1.0</td>\n",
       "      <td>0</td>\n",
       "    </tr>\n",
       "  </tbody>\n",
       "</table>\n",
       "</div>"
      ],
      "text/plain": [
       "              fname             labels  nframe  wav_data_std  noisy_flg  \\\n",
       "21456  d527dcf0.wav  Zipper_(clothing)  661500           0.0        1.0   \n",
       "\n",
       "       n_labels  test_flg  \n",
       "21456       1.0         0  "
      ]
     },
     "metadata": {},
     "output_type": "display_data"
    },
    {
     "data": {
      "image/png": "[encoded data removed]",
      "text/plain": [
       "<Figure size 432x288 with 1 Axes>"
      ]
     },
     "metadata": {},
     "output_type": "display_data"
    },
    {
     "name": "stdout",
     "output_type": "stream",
     "text": [
      "e4faa2e1.wav\n",
      "../data/input/train_noisy/\n"
     ]
    },
    {
     "data": {
      "text/html": [
       "<div>\n",
       "<style scoped>\n",
       "    .dataframe tbody tr th:only-of-type {\n",
       "        vertical-align: middle;\n",
       "    }\n",
       "\n",
       "    .dataframe tbody tr th {\n",
       "        vertical-align: top;\n",
       "    }\n",
       "\n",
       "    .dataframe thead th {\n",
       "        text-align: right;\n",
       "    }\n",
       "</style>\n",
       "<table border=\"1\" class=\"dataframe\">\n",
       "  <thead>\n",
       "    <tr style=\"text-align: right;\">\n",
       "      <th></th>\n",
       "      <th>fname</th>\n",
       "      <th>labels</th>\n",
       "      <th>nframe</th>\n",
       "      <th>wav_data_std</th>\n",
       "      <th>noisy_flg</th>\n",
       "      <th>n_labels</th>\n",
       "      <th>test_flg</th>\n",
       "    </tr>\n",
       "  </thead>\n",
       "  <tbody>\n",
       "    <tr>\n",
       "      <th>22726</th>\n",
       "      <td>e4faa2e1.wav</td>\n",
       "      <td>Motorcycle</td>\n",
       "      <td>661500</td>\n",
       "      <td>0.0</td>\n",
       "      <td>1.0</td>\n",
       "      <td>1.0</td>\n",
       "      <td>0</td>\n",
       "    </tr>\n",
       "  </tbody>\n",
       "</table>\n",
       "</div>"
      ],
      "text/plain": [
       "              fname      labels  nframe  wav_data_std  noisy_flg  n_labels  \\\n",
       "22726  e4faa2e1.wav  Motorcycle  661500           0.0        1.0       1.0   \n",
       "\n",
       "       test_flg  \n",
       "22726         0  "
      ]
     },
     "metadata": {},
     "output_type": "display_data"
    },
    {
     "data": {
      "image/png": "[encoded data removed]",
      "text/plain": [
       "<Figure size 432x288 with 1 Axes>"
      ]
     },
     "metadata": {},
     "output_type": "display_data"
    },
    {
     "name": "stdout",
     "output_type": "stream",
     "text": [
      "fa659a71.wav\n",
      "../data/input/train_noisy/\n"
     ]
    },
    {
     "data": {
      "text/html": [
       "<div>\n",
       "<style scoped>\n",
       "    .dataframe tbody tr th:only-of-type {\n",
       "        vertical-align: middle;\n",
       "    }\n",
       "\n",
       "    .dataframe tbody tr th {\n",
       "        vertical-align: top;\n",
       "    }\n",
       "\n",
       "    .dataframe thead th {\n",
       "        text-align: right;\n",
       "    }\n",
       "</style>\n",
       "<table border=\"1\" class=\"dataframe\">\n",
       "  <thead>\n",
       "    <tr style=\"text-align: right;\">\n",
       "      <th></th>\n",
       "      <th>fname</th>\n",
       "      <th>labels</th>\n",
       "      <th>nframe</th>\n",
       "      <th>wav_data_std</th>\n",
       "      <th>noisy_flg</th>\n",
       "      <th>n_labels</th>\n",
       "      <th>test_flg</th>\n",
       "    </tr>\n",
       "  </thead>\n",
       "  <tbody>\n",
       "    <tr>\n",
       "      <th>24371</th>\n",
       "      <td>fa659a71.wav</td>\n",
       "      <td>Bus</td>\n",
       "      <td>661500</td>\n",
       "      <td>0.0</td>\n",
       "      <td>1.0</td>\n",
       "      <td>1.0</td>\n",
       "      <td>0</td>\n",
       "    </tr>\n",
       "  </tbody>\n",
       "</table>\n",
       "</div>"
      ],
      "text/plain": [
       "              fname labels  nframe  wav_data_std  noisy_flg  n_labels  \\\n",
       "24371  fa659a71.wav    Bus  661500           0.0        1.0       1.0   \n",
       "\n",
       "       test_flg  \n",
       "24371         0  "
      ]
     },
     "metadata": {},
     "output_type": "display_data"
    },
    {
     "data": {
      "image/png": "[encoded data removed]",
      "text/plain": [
       "<Figure size 432x288 with 1 Axes>"
      ]
     },
     "metadata": {},
     "output_type": "display_data"
    },
    {
     "name": "stdout",
     "output_type": "stream",
     "text": [
      "fba392d8.wav\n",
      "../data/input/train_noisy/\n"
     ]
    },
    {
     "data": {
      "text/html": [
       "<div>\n",
       "<style scoped>\n",
       "    .dataframe tbody tr th:only-of-type {\n",
       "        vertical-align: middle;\n",
       "    }\n",
       "\n",
       "    .dataframe tbody tr th {\n",
       "        vertical-align: top;\n",
       "    }\n",
       "\n",
       "    .dataframe thead th {\n",
       "        text-align: right;\n",
       "    }\n",
       "</style>\n",
       "<table border=\"1\" class=\"dataframe\">\n",
       "  <thead>\n",
       "    <tr style=\"text-align: right;\">\n",
       "      <th></th>\n",
       "      <th>fname</th>\n",
       "      <th>labels</th>\n",
       "      <th>nframe</th>\n",
       "      <th>wav_data_std</th>\n",
       "      <th>noisy_flg</th>\n",
       "      <th>n_labels</th>\n",
       "      <th>test_flg</th>\n",
       "    </tr>\n",
       "  </thead>\n",
       "  <tbody>\n",
       "    <tr>\n",
       "      <th>24481</th>\n",
       "      <td>fba392d8.wav</td>\n",
       "      <td>Church_bell</td>\n",
       "      <td>661500</td>\n",
       "      <td>0.0</td>\n",
       "      <td>1.0</td>\n",
       "      <td>1.0</td>\n",
       "      <td>0</td>\n",
       "    </tr>\n",
       "  </tbody>\n",
       "</table>\n",
       "</div>"
      ],
      "text/plain": [
       "              fname       labels  nframe  wav_data_std  noisy_flg  n_labels  \\\n",
       "24481  fba392d8.wav  Church_bell  661500           0.0        1.0       1.0   \n",
       "\n",
       "       test_flg  \n",
       "24481         0  "
      ]
     },
     "metadata": {},
     "output_type": "display_data"
    },
    {
     "data": {
      "image/png": "[encoded data removed]",
      "text/plain": [
       "<Figure size 432x288 with 1 Axes>"
      ]
     },
     "metadata": {},
     "output_type": "display_data"
    }
   ],
   "source": [
    "for fname in silent_wav_list:\n",
    "    get_info(fname)"
   ]
  },
  {
   "cell_type": "markdown",
   "metadata": {},
   "source": [
    "### test"
   ]
  },
  {
   "cell_type": "code",
   "execution_count": 21,
   "metadata": {},
   "outputs": [
    {
     "data": {
      "text/html": [
       "<div>\n",
       "<style scoped>\n",
       "    .dataframe tbody tr th:only-of-type {\n",
       "        vertical-align: middle;\n",
       "    }\n",
       "\n",
       "    .dataframe tbody tr th {\n",
       "        vertical-align: top;\n",
       "    }\n",
       "\n",
       "    .dataframe thead th {\n",
       "        text-align: right;\n",
       "    }\n",
       "</style>\n",
       "<table border=\"1\" class=\"dataframe\">\n",
       "  <thead>\n",
       "    <tr style=\"text-align: right;\">\n",
       "      <th></th>\n",
       "      <th>fname</th>\n",
       "      <th>Accelerating_and_revving_and_vroom</th>\n",
       "      <th>Accordion</th>\n",
       "      <th>Acoustic_guitar</th>\n",
       "      <th>Applause</th>\n",
       "      <th>Bark</th>\n",
       "      <th>Bass_drum</th>\n",
       "      <th>Bass_guitar</th>\n",
       "      <th>Bathtub_(filling_or_washing)</th>\n",
       "      <th>Bicycle_bell</th>\n",
       "      <th>...</th>\n",
       "      <th>Trickle_and_dribble</th>\n",
       "      <th>Walk_and_footsteps</th>\n",
       "      <th>Water_tap_and_faucet</th>\n",
       "      <th>Waves_and_surf</th>\n",
       "      <th>Whispering</th>\n",
       "      <th>Writing</th>\n",
       "      <th>Yell</th>\n",
       "      <th>Zipper_(clothing)</th>\n",
       "      <th>nframe</th>\n",
       "      <th>wav_data_std</th>\n",
       "    </tr>\n",
       "  </thead>\n",
       "  <tbody>\n",
       "  </tbody>\n",
       "</table>\n",
       "<p>0 rows × 83 columns</p>\n",
       "</div>"
      ],
      "text/plain": [
       "Empty DataFrame\n",
       "Columns: [fname, Accelerating_and_revving_and_vroom, Accordion, Acoustic_guitar, Applause, Bark, Bass_drum, Bass_guitar, Bathtub_(filling_or_washing), Bicycle_bell, Burping_and_eructation, Bus, Buzz, Car_passing_by, Cheering, Chewing_and_mastication, Child_speech_and_kid_speaking, Chink_and_clink, Chirp_and_tweet, Church_bell, Clapping, Computer_keyboard, Crackle, Cricket, Crowd, Cupboard_open_or_close, Cutlery_and_silverware, Dishes_and_pots_and_pans, Drawer_open_or_close, Drip, Electric_guitar, Fart, Female_singing, Female_speech_and_woman_speaking, Fill_(with_liquid), Finger_snapping, Frying_(food), Gasp, Glockenspiel, Gong, Gurgling, Harmonica, Hi-hat, Hiss, Keys_jangling, Knock, Male_singing, Male_speech_and_man_speaking, Marimba_and_xylophone, Mechanical_fan, Meow, Microwave_oven, Motorcycle, Printer, Purr, Race_car_and_auto_racing, Raindrop, Run, Scissors, Screaming, Shatter, Sigh, Sink_(filling_or_washing), Skateboard, Slam, Sneeze, Squeak, Stream, Strum, Tap, Tick-tock, Toilet_flush, Traffic_noise_and_roadway_noise, Trickle_and_dribble, Walk_and_footsteps, Water_tap_and_faucet, Waves_and_surf, Whispering, Writing, Yell, Zipper_(clothing), nframe, wav_data_std]\n",
       "Index: []\n",
       "\n",
       "[0 rows x 83 columns]"
      ]
     },
     "execution_count": 21,
     "metadata": {},
     "output_type": "execute_result"
    }
   ],
   "source": [
    "test.query(\"wav_data_std == 0\")"
   ]
  },
  {
   "cell_type": "markdown",
   "metadata": {},
   "source": [
    "### summary"
   ]
  },
  {
   "cell_type": "code",
   "execution_count": 22,
   "metadata": {},
   "outputs": [
    {
     "data": {
      "text/plain": [
       "(20, 20)"
      ]
     },
     "execution_count": 22,
     "metadata": {},
     "output_type": "execute_result"
    }
   ],
   "source": [
    "silent_wav_list = [\n",
    "    '1d44b0bd.wav',\n",
    "    '02f274b2.wav',\n",
    "    '08b34136.wav',\n",
    "    '1af3bd88.wav',\n",
    "    '1fd4f275.wav',\n",
    "    '2f503375.wav',\n",
    "    '3496256e.wav',\n",
    "    '551a4b3b.wav',\n",
    "    '5a5761c9.wav',\n",
    "    '6d062e59.wav',\n",
    "    '769d131d.wav',\n",
    "    '8c712129.wav',\n",
    "    '988cf8f2.wav',\n",
    "    '9f4fa2df.wav',\n",
    "    'b1d2590c.wav',\n",
    "    'be273a3c.wav',\n",
    "    'd527dcf0.wav',\n",
    "    'e4faa2e1.wav',\n",
    "    'fa659a71.wav',\n",
    "    'fba392d8.wav'    \n",
    "]\n",
    "len(silent_wav_list), len(list(set(silent_wav_list)))"
   ]
  }
 ],
 "metadata": {
  "kernelspec": {
   "display_name": "Python 3",
   "language": "python",
   "name": "python3"
  },
  "language_info": {
   "codemirror_mode": {
    "name": "ipython",
    "version": 3
   },
   "file_extension": ".py",
   "mimetype": "text/x-python",
   "name": "python",
   "nbconvert_exporter": "python",
   "pygments_lexer": "ipython3",
   "version": "3.6.5"
  }
 },
 "nbformat": 4,
 "nbformat_minor": 2
}
